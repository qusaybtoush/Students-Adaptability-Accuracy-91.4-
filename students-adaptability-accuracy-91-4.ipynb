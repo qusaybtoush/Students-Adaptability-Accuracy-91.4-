{
 "cells": [
  {
   "cell_type": "markdown",
   "id": "0f7460cd",
   "metadata": {
    "papermill": {
     "duration": 0.008339,
     "end_time": "2022-06-14T19:03:49.811548",
     "exception": false,
     "start_time": "2022-06-14T19:03:49.803209",
     "status": "completed"
    },
    "tags": []
   },
   "source": [
    "# Introduction 😃😃😃\n",
    "\n",
    "## Students Adaptability Level in Online Education\n",
    "\n",
    "### About Dataset\n",
    "\n",
    "#### Context\n",
    "\n",
    "- Since as a beginner in machine learning it would be a great opportunity to try some techniques to predict the outcome of Students’ Adaptability Level Prediction in Online Education using Machine Learning Approaches\n",
    "\n",
    "#### Content\n",
    "\n",
    "- The target feature is Adaptivity level\n",
    "\n",
    "#### The feature sets are:\n",
    "\n",
    "- Gender\n",
    "- Age\n",
    "- Education Level\n",
    "- Institution Type\n",
    "- IT Student\n",
    "- Location in Town\n",
    "- Load-shedding\n",
    "- Financial Condition\n",
    "- Internet Type\n",
    "- Network Type\n",
    "- Class Duration\n",
    "- Self LMS\n",
    "- Device\n",
    "\n",
    "\n",
    "# Work plan 🤝🤝🤝🤝🤝\n",
    "\n",
    "- 1- Data Exploration & Analysis 🤝🤝🤝\n",
    "- 2- Building a Machine Learning Model /Classification  Predict\n",
    "- 3- Building  Model usign TensorFlow"
   ]
  },
  {
   "cell_type": "code",
   "execution_count": 1,
   "id": "1d2c0ce8",
   "metadata": {
    "execution": {
     "iopub.execute_input": "2022-06-14T19:03:49.827974Z",
     "iopub.status.busy": "2022-06-14T19:03:49.827325Z",
     "iopub.status.idle": "2022-06-14T19:03:51.904425Z",
     "shell.execute_reply": "2022-06-14T19:03:51.903366Z"
    },
    "papermill": {
     "duration": 2.088133,
     "end_time": "2022-06-14T19:03:51.906970",
     "exception": false,
     "start_time": "2022-06-14T19:03:49.818837",
     "status": "completed"
    },
    "tags": []
   },
   "outputs": [],
   "source": [
    "#Importing the basic librarires fot analysis\n",
    "\n",
    "import numpy as np\n",
    "import pandas as pd\n",
    "import seaborn as sns\n",
    "import matplotlib.pyplot as plt\n",
    "plt.style.use(\"ggplot\")  #using style ggplot\n",
    "\n",
    "%matplotlib inline\n",
    "import plotly.graph_objects as go\n",
    "import plotly.express as px"
   ]
  },
  {
   "cell_type": "code",
   "execution_count": 2,
   "id": "8e552b0c",
   "metadata": {
    "execution": {
     "iopub.execute_input": "2022-06-14T19:03:51.923144Z",
     "iopub.status.busy": "2022-06-14T19:03:51.922321Z",
     "iopub.status.idle": "2022-06-14T19:03:51.960486Z",
     "shell.execute_reply": "2022-06-14T19:03:51.959559Z"
    },
    "papermill": {
     "duration": 0.048269,
     "end_time": "2022-06-14T19:03:51.962445",
     "exception": false,
     "start_time": "2022-06-14T19:03:51.914176",
     "status": "completed"
    },
    "tags": []
   },
   "outputs": [
    {
     "data": {
      "text/html": [
       "<div>\n",
       "<style scoped>\n",
       "    .dataframe tbody tr th:only-of-type {\n",
       "        vertical-align: middle;\n",
       "    }\n",
       "\n",
       "    .dataframe tbody tr th {\n",
       "        vertical-align: top;\n",
       "    }\n",
       "\n",
       "    .dataframe thead th {\n",
       "        text-align: right;\n",
       "    }\n",
       "</style>\n",
       "<table border=\"1\" class=\"dataframe\">\n",
       "  <thead>\n",
       "    <tr style=\"text-align: right;\">\n",
       "      <th></th>\n",
       "      <th>Gender</th>\n",
       "      <th>Age</th>\n",
       "      <th>Education Level</th>\n",
       "      <th>Institution Type</th>\n",
       "      <th>IT Student</th>\n",
       "      <th>Location</th>\n",
       "      <th>Load-shedding</th>\n",
       "      <th>Financial Condition</th>\n",
       "      <th>Internet Type</th>\n",
       "      <th>Network Type</th>\n",
       "      <th>Class Duration</th>\n",
       "      <th>Self Lms</th>\n",
       "      <th>Device</th>\n",
       "      <th>Adaptivity Level</th>\n",
       "    </tr>\n",
       "  </thead>\n",
       "  <tbody>\n",
       "    <tr>\n",
       "      <th>0</th>\n",
       "      <td>Boy</td>\n",
       "      <td>21-25</td>\n",
       "      <td>University</td>\n",
       "      <td>Non Government</td>\n",
       "      <td>No</td>\n",
       "      <td>Yes</td>\n",
       "      <td>Low</td>\n",
       "      <td>Mid</td>\n",
       "      <td>Wifi</td>\n",
       "      <td>4G</td>\n",
       "      <td>3-6</td>\n",
       "      <td>No</td>\n",
       "      <td>Tab</td>\n",
       "      <td>Moderate</td>\n",
       "    </tr>\n",
       "    <tr>\n",
       "      <th>1</th>\n",
       "      <td>Girl</td>\n",
       "      <td>21-25</td>\n",
       "      <td>University</td>\n",
       "      <td>Non Government</td>\n",
       "      <td>No</td>\n",
       "      <td>Yes</td>\n",
       "      <td>High</td>\n",
       "      <td>Mid</td>\n",
       "      <td>Mobile Data</td>\n",
       "      <td>4G</td>\n",
       "      <td>1-3</td>\n",
       "      <td>Yes</td>\n",
       "      <td>Mobile</td>\n",
       "      <td>Moderate</td>\n",
       "    </tr>\n",
       "    <tr>\n",
       "      <th>2</th>\n",
       "      <td>Girl</td>\n",
       "      <td>16-20</td>\n",
       "      <td>College</td>\n",
       "      <td>Government</td>\n",
       "      <td>No</td>\n",
       "      <td>Yes</td>\n",
       "      <td>Low</td>\n",
       "      <td>Mid</td>\n",
       "      <td>Wifi</td>\n",
       "      <td>4G</td>\n",
       "      <td>1-3</td>\n",
       "      <td>No</td>\n",
       "      <td>Mobile</td>\n",
       "      <td>Moderate</td>\n",
       "    </tr>\n",
       "    <tr>\n",
       "      <th>3</th>\n",
       "      <td>Girl</td>\n",
       "      <td>11-15</td>\n",
       "      <td>School</td>\n",
       "      <td>Non Government</td>\n",
       "      <td>No</td>\n",
       "      <td>Yes</td>\n",
       "      <td>Low</td>\n",
       "      <td>Mid</td>\n",
       "      <td>Mobile Data</td>\n",
       "      <td>4G</td>\n",
       "      <td>1-3</td>\n",
       "      <td>No</td>\n",
       "      <td>Mobile</td>\n",
       "      <td>Moderate</td>\n",
       "    </tr>\n",
       "    <tr>\n",
       "      <th>4</th>\n",
       "      <td>Girl</td>\n",
       "      <td>16-20</td>\n",
       "      <td>School</td>\n",
       "      <td>Non Government</td>\n",
       "      <td>No</td>\n",
       "      <td>Yes</td>\n",
       "      <td>Low</td>\n",
       "      <td>Poor</td>\n",
       "      <td>Mobile Data</td>\n",
       "      <td>3G</td>\n",
       "      <td>0</td>\n",
       "      <td>No</td>\n",
       "      <td>Mobile</td>\n",
       "      <td>Low</td>\n",
       "    </tr>\n",
       "  </tbody>\n",
       "</table>\n",
       "</div>"
      ],
      "text/plain": [
       "  Gender    Age Education Level Institution Type IT Student Location  \\\n",
       "0    Boy  21-25      University   Non Government         No      Yes   \n",
       "1   Girl  21-25      University   Non Government         No      Yes   \n",
       "2   Girl  16-20         College       Government         No      Yes   \n",
       "3   Girl  11-15          School   Non Government         No      Yes   \n",
       "4   Girl  16-20          School   Non Government         No      Yes   \n",
       "\n",
       "  Load-shedding Financial Condition Internet Type Network Type Class Duration  \\\n",
       "0           Low                 Mid          Wifi           4G            3-6   \n",
       "1          High                 Mid   Mobile Data           4G            1-3   \n",
       "2           Low                 Mid          Wifi           4G            1-3   \n",
       "3           Low                 Mid   Mobile Data           4G            1-3   \n",
       "4           Low                Poor   Mobile Data           3G              0   \n",
       "\n",
       "  Self Lms  Device Adaptivity Level  \n",
       "0       No     Tab         Moderate  \n",
       "1      Yes  Mobile         Moderate  \n",
       "2       No  Mobile         Moderate  \n",
       "3       No  Mobile         Moderate  \n",
       "4       No  Mobile              Low  "
      ]
     },
     "execution_count": 2,
     "metadata": {},
     "output_type": "execute_result"
    }
   ],
   "source": [
    "#Importing the dataset\n",
    "df =pd.read_csv(\"../input/students-adaptability-level-in-online-education/students_adaptability_level_online_education.csv\")\n",
    "\n",
    "\n",
    "# look the data set\n",
    "df.head()"
   ]
  },
  {
   "cell_type": "code",
   "execution_count": 3,
   "id": "49e5957f",
   "metadata": {
    "execution": {
     "iopub.execute_input": "2022-06-14T19:03:51.978546Z",
     "iopub.status.busy": "2022-06-14T19:03:51.978030Z",
     "iopub.status.idle": "2022-06-14T19:03:51.983753Z",
     "shell.execute_reply": "2022-06-14T19:03:51.982831Z"
    },
    "papermill": {
     "duration": 0.015717,
     "end_time": "2022-06-14T19:03:51.985525",
     "exception": false,
     "start_time": "2022-06-14T19:03:51.969808",
     "status": "completed"
    },
    "tags": []
   },
   "outputs": [
    {
     "data": {
      "text/plain": [
       "(1205, 14)"
      ]
     },
     "execution_count": 3,
     "metadata": {},
     "output_type": "execute_result"
    }
   ],
   "source": [
    "# looking the shape DataSet\n",
    "df.shape"
   ]
  },
  {
   "cell_type": "code",
   "execution_count": 4,
   "id": "643e746b",
   "metadata": {
    "execution": {
     "iopub.execute_input": "2022-06-14T19:03:52.001720Z",
     "iopub.status.busy": "2022-06-14T19:03:52.001231Z",
     "iopub.status.idle": "2022-06-14T19:03:52.021959Z",
     "shell.execute_reply": "2022-06-14T19:03:52.020923Z"
    },
    "papermill": {
     "duration": 0.03118,
     "end_time": "2022-06-14T19:03:52.024025",
     "exception": false,
     "start_time": "2022-06-14T19:03:51.992845",
     "status": "completed"
    },
    "tags": []
   },
   "outputs": [
    {
     "name": "stdout",
     "output_type": "stream",
     "text": [
      "<class 'pandas.core.frame.DataFrame'>\n",
      "RangeIndex: 1205 entries, 0 to 1204\n",
      "Data columns (total 14 columns):\n",
      " #   Column               Non-Null Count  Dtype \n",
      "---  ------               --------------  ----- \n",
      " 0   Gender               1205 non-null   object\n",
      " 1   Age                  1205 non-null   object\n",
      " 2   Education Level      1205 non-null   object\n",
      " 3   Institution Type     1205 non-null   object\n",
      " 4   IT Student           1205 non-null   object\n",
      " 5   Location             1205 non-null   object\n",
      " 6   Load-shedding        1205 non-null   object\n",
      " 7   Financial Condition  1205 non-null   object\n",
      " 8   Internet Type        1205 non-null   object\n",
      " 9   Network Type         1205 non-null   object\n",
      " 10  Class Duration       1205 non-null   object\n",
      " 11  Self Lms             1205 non-null   object\n",
      " 12  Device               1205 non-null   object\n",
      " 13  Adaptivity Level     1205 non-null   object\n",
      "dtypes: object(14)\n",
      "memory usage: 131.9+ KB\n"
     ]
    }
   ],
   "source": [
    "#Checking the dtypes of all the columns\n",
    "\n",
    "df.info()"
   ]
  },
  {
   "cell_type": "code",
   "execution_count": 5,
   "id": "01f8b523",
   "metadata": {
    "execution": {
     "iopub.execute_input": "2022-06-14T19:03:52.042670Z",
     "iopub.status.busy": "2022-06-14T19:03:52.041734Z",
     "iopub.status.idle": "2022-06-14T19:03:52.050217Z",
     "shell.execute_reply": "2022-06-14T19:03:52.049444Z"
    },
    "papermill": {
     "duration": 0.018556,
     "end_time": "2022-06-14T19:03:52.051937",
     "exception": false,
     "start_time": "2022-06-14T19:03:52.033381",
     "status": "completed"
    },
    "tags": []
   },
   "outputs": [
    {
     "data": {
      "text/plain": [
       "Gender                 0\n",
       "Age                    0\n",
       "Education Level        0\n",
       "Institution Type       0\n",
       "IT Student             0\n",
       "Location               0\n",
       "Load-shedding          0\n",
       "Financial Condition    0\n",
       "Internet Type          0\n",
       "Network Type           0\n",
       "Class Duration         0\n",
       "Self Lms               0\n",
       "Device                 0\n",
       "Adaptivity Level       0\n",
       "dtype: int64"
      ]
     },
     "execution_count": 5,
     "metadata": {},
     "output_type": "execute_result"
    }
   ],
   "source": [
    "# missing value\n",
    "\n",
    "df.isnull().sum()"
   ]
  },
  {
   "cell_type": "markdown",
   "id": "1e993922",
   "metadata": {
    "papermill": {
     "duration": 0.00705,
     "end_time": "2022-06-14T19:03:52.066298",
     "exception": false,
     "start_time": "2022-06-14T19:03:52.059248",
     "status": "completed"
    },
    "tags": []
   },
   "source": [
    "- No any missing value"
   ]
  },
  {
   "cell_type": "code",
   "execution_count": 6,
   "id": "b6f18be6",
   "metadata": {
    "execution": {
     "iopub.execute_input": "2022-06-14T19:03:52.082234Z",
     "iopub.status.busy": "2022-06-14T19:03:52.081910Z",
     "iopub.status.idle": "2022-06-14T19:03:52.110430Z",
     "shell.execute_reply": "2022-06-14T19:03:52.109599Z"
    },
    "papermill": {
     "duration": 0.038706,
     "end_time": "2022-06-14T19:03:52.112243",
     "exception": false,
     "start_time": "2022-06-14T19:03:52.073537",
     "status": "completed"
    },
    "tags": []
   },
   "outputs": [
    {
     "data": {
      "text/html": [
       "<div>\n",
       "<style scoped>\n",
       "    .dataframe tbody tr th:only-of-type {\n",
       "        vertical-align: middle;\n",
       "    }\n",
       "\n",
       "    .dataframe tbody tr th {\n",
       "        vertical-align: top;\n",
       "    }\n",
       "\n",
       "    .dataframe thead th {\n",
       "        text-align: right;\n",
       "    }\n",
       "</style>\n",
       "<table border=\"1\" class=\"dataframe\">\n",
       "  <thead>\n",
       "    <tr style=\"text-align: right;\">\n",
       "      <th></th>\n",
       "      <th>count</th>\n",
       "      <th>unique</th>\n",
       "      <th>top</th>\n",
       "      <th>freq</th>\n",
       "    </tr>\n",
       "  </thead>\n",
       "  <tbody>\n",
       "    <tr>\n",
       "      <th>Gender</th>\n",
       "      <td>1205</td>\n",
       "      <td>2</td>\n",
       "      <td>Boy</td>\n",
       "      <td>663</td>\n",
       "    </tr>\n",
       "    <tr>\n",
       "      <th>Age</th>\n",
       "      <td>1205</td>\n",
       "      <td>6</td>\n",
       "      <td>21-25</td>\n",
       "      <td>374</td>\n",
       "    </tr>\n",
       "    <tr>\n",
       "      <th>Education Level</th>\n",
       "      <td>1205</td>\n",
       "      <td>3</td>\n",
       "      <td>School</td>\n",
       "      <td>530</td>\n",
       "    </tr>\n",
       "    <tr>\n",
       "      <th>Institution Type</th>\n",
       "      <td>1205</td>\n",
       "      <td>2</td>\n",
       "      <td>Non Government</td>\n",
       "      <td>823</td>\n",
       "    </tr>\n",
       "    <tr>\n",
       "      <th>IT Student</th>\n",
       "      <td>1205</td>\n",
       "      <td>2</td>\n",
       "      <td>No</td>\n",
       "      <td>901</td>\n",
       "    </tr>\n",
       "    <tr>\n",
       "      <th>Location</th>\n",
       "      <td>1205</td>\n",
       "      <td>2</td>\n",
       "      <td>Yes</td>\n",
       "      <td>935</td>\n",
       "    </tr>\n",
       "    <tr>\n",
       "      <th>Load-shedding</th>\n",
       "      <td>1205</td>\n",
       "      <td>2</td>\n",
       "      <td>Low</td>\n",
       "      <td>1004</td>\n",
       "    </tr>\n",
       "    <tr>\n",
       "      <th>Financial Condition</th>\n",
       "      <td>1205</td>\n",
       "      <td>3</td>\n",
       "      <td>Mid</td>\n",
       "      <td>878</td>\n",
       "    </tr>\n",
       "    <tr>\n",
       "      <th>Internet Type</th>\n",
       "      <td>1205</td>\n",
       "      <td>2</td>\n",
       "      <td>Mobile Data</td>\n",
       "      <td>695</td>\n",
       "    </tr>\n",
       "    <tr>\n",
       "      <th>Network Type</th>\n",
       "      <td>1205</td>\n",
       "      <td>3</td>\n",
       "      <td>4G</td>\n",
       "      <td>775</td>\n",
       "    </tr>\n",
       "    <tr>\n",
       "      <th>Class Duration</th>\n",
       "      <td>1205</td>\n",
       "      <td>3</td>\n",
       "      <td>1-3</td>\n",
       "      <td>840</td>\n",
       "    </tr>\n",
       "    <tr>\n",
       "      <th>Self Lms</th>\n",
       "      <td>1205</td>\n",
       "      <td>2</td>\n",
       "      <td>No</td>\n",
       "      <td>995</td>\n",
       "    </tr>\n",
       "    <tr>\n",
       "      <th>Device</th>\n",
       "      <td>1205</td>\n",
       "      <td>3</td>\n",
       "      <td>Mobile</td>\n",
       "      <td>1013</td>\n",
       "    </tr>\n",
       "    <tr>\n",
       "      <th>Adaptivity Level</th>\n",
       "      <td>1205</td>\n",
       "      <td>3</td>\n",
       "      <td>Moderate</td>\n",
       "      <td>625</td>\n",
       "    </tr>\n",
       "  </tbody>\n",
       "</table>\n",
       "</div>"
      ],
      "text/plain": [
       "                    count unique             top  freq\n",
       "Gender               1205      2             Boy   663\n",
       "Age                  1205      6           21-25   374\n",
       "Education Level      1205      3          School   530\n",
       "Institution Type     1205      2  Non Government   823\n",
       "IT Student           1205      2              No   901\n",
       "Location             1205      2             Yes   935\n",
       "Load-shedding        1205      2             Low  1004\n",
       "Financial Condition  1205      3             Mid   878\n",
       "Internet Type        1205      2     Mobile Data   695\n",
       "Network Type         1205      3              4G   775\n",
       "Class Duration       1205      3             1-3   840\n",
       "Self Lms             1205      2              No   995\n",
       "Device               1205      3          Mobile  1013\n",
       "Adaptivity Level     1205      3        Moderate   625"
      ]
     },
     "execution_count": 6,
     "metadata": {},
     "output_type": "execute_result"
    }
   ],
   "source": [
    "# look  describe data set\n",
    "\n",
    "df.describe().T\n"
   ]
  },
  {
   "cell_type": "markdown",
   "id": "6faac67e",
   "metadata": {
    "papermill": {
     "duration": 0.007455,
     "end_time": "2022-06-14T19:03:52.127495",
     "exception": false,
     "start_time": "2022-06-14T19:03:52.120040",
     "status": "completed"
    },
    "tags": []
   },
   "source": [
    "## Some Visualizations"
   ]
  },
  {
   "cell_type": "code",
   "execution_count": 7,
   "id": "bb68b4dc",
   "metadata": {
    "execution": {
     "iopub.execute_input": "2022-06-14T19:03:52.144403Z",
     "iopub.status.busy": "2022-06-14T19:03:52.144064Z",
     "iopub.status.idle": "2022-06-14T19:03:52.334694Z",
     "shell.execute_reply": "2022-06-14T19:03:52.333388Z"
    },
    "papermill": {
     "duration": 0.203988,
     "end_time": "2022-06-14T19:03:52.339212",
     "exception": false,
     "start_time": "2022-06-14T19:03:52.135224",
     "status": "completed"
    },
    "tags": []
   },
   "outputs": [
    {
     "data": {
      "text/plain": [
       "<AxesSubplot:ylabel='Adaptivity Level'>"
      ]
     },
     "execution_count": 7,
     "metadata": {},
     "output_type": "execute_result"
    },
    {
     "data": {
      "image/png": "[encoded data removed]",
      "text/plain": [
       "<Figure size 864x576 with 1 Axes>"
      ]
     },
     "metadata": {},
     "output_type": "display_data"
    }
   ],
   "source": [
    "# Show the percentage Adaptivity Level in Dataset\n",
    "\n",
    "plt.figure(figsize=(12,8))\n",
    "df['Adaptivity Level'].value_counts().plot.pie(autopct='%1.1f%%',shadow=True)\n"
   ]
  },
  {
   "cell_type": "markdown",
   "id": "34cd1776",
   "metadata": {
    "papermill": {
     "duration": 0.016565,
     "end_time": "2022-06-14T19:03:52.372839",
     "exception": false,
     "start_time": "2022-06-14T19:03:52.356274",
     "status": "completed"
    },
    "tags": []
   },
   "source": [
    "### The percentage Adaptivity Level in Dataset\n",
    "- Low = 39.8%\n",
    "- Moderate = 51.9%\n",
    "- High = 8.3 %"
   ]
  },
  {
   "cell_type": "code",
   "execution_count": 8,
   "id": "79e965da",
   "metadata": {
    "execution": {
     "iopub.execute_input": "2022-06-14T19:03:52.396555Z",
     "iopub.status.busy": "2022-06-14T19:03:52.395993Z",
     "iopub.status.idle": "2022-06-14T19:03:52.521531Z",
     "shell.execute_reply": "2022-06-14T19:03:52.520553Z"
    },
    "papermill": {
     "duration": 0.138004,
     "end_time": "2022-06-14T19:03:52.524386",
     "exception": false,
     "start_time": "2022-06-14T19:03:52.386382",
     "status": "completed"
    },
    "tags": []
   },
   "outputs": [
    {
     "data": {
      "text/plain": [
       "<AxesSubplot:ylabel='Gender'>"
      ]
     },
     "execution_count": 8,
     "metadata": {},
     "output_type": "execute_result"
    },
    {
     "data": {
      "image/png": "[encoded data removed]",
      "text/plain": [
       "<Figure size 864x576 with 1 Axes>"
      ]
     },
     "metadata": {},
     "output_type": "display_data"
    }
   ],
   "source": [
    "# Show the percentage Gender in Dataset\n",
    "\n",
    "plt.figure(figsize=(12,8))\n",
    "\n",
    "df['Gender'].value_counts().plot.pie(autopct='%1.1f%%',shadow=True)\n"
   ]
  },
  {
   "cell_type": "markdown",
   "id": "8933087a",
   "metadata": {
    "papermill": {
     "duration": 0.017468,
     "end_time": "2022-06-14T19:03:52.560025",
     "exception": false,
     "start_time": "2022-06-14T19:03:52.542557",
     "status": "completed"
    },
    "tags": []
   },
   "source": [
    "### the percentage Gender in Dataset\n",
    "- Boy= 55%\n",
    "- Girl = 45 %"
   ]
  },
  {
   "cell_type": "code",
   "execution_count": 9,
   "id": "e9c4e061",
   "metadata": {
    "execution": {
     "iopub.execute_input": "2022-06-14T19:03:52.592918Z",
     "iopub.status.busy": "2022-06-14T19:03:52.592338Z",
     "iopub.status.idle": "2022-06-14T19:03:52.734782Z",
     "shell.execute_reply": "2022-06-14T19:03:52.733917Z"
    },
    "papermill": {
     "duration": 0.159766,
     "end_time": "2022-06-14T19:03:52.737481",
     "exception": false,
     "start_time": "2022-06-14T19:03:52.577715",
     "status": "completed"
    },
    "tags": []
   },
   "outputs": [
    {
     "data": {
      "text/plain": [
       "<AxesSubplot:ylabel='Device'>"
      ]
     },
     "execution_count": 9,
     "metadata": {},
     "output_type": "execute_result"
    },
    {
     "data": {
      "image/png": "[encoded data removed]",
      "text/plain": [
       "<Figure size 864x576 with 1 Axes>"
      ]
     },
     "metadata": {},
     "output_type": "display_data"
    }
   ],
   "source": [
    "# Show the Device using in Dataset\n",
    "\n",
    "plt.figure(figsize=(12,8))\n",
    "\n",
    "\n",
    "df['Device'].value_counts().plot.pie(autopct='%1.1f%%',shadow=True)\n"
   ]
  },
  {
   "cell_type": "markdown",
   "id": "4deaa931",
   "metadata": {
    "papermill": {
     "duration": 0.018231,
     "end_time": "2022-06-14T19:03:52.774905",
     "exception": false,
     "start_time": "2022-06-14T19:03:52.756674",
     "status": "completed"
    },
    "tags": []
   },
   "source": [
    "### The Device using in Dataset\n",
    "- Mobile = 84.1%\n",
    "- Computer = 13.4%\n",
    "- Tab = 2.5%"
   ]
  },
  {
   "cell_type": "code",
   "execution_count": 10,
   "id": "acb6d5b7",
   "metadata": {
    "execution": {
     "iopub.execute_input": "2022-06-14T19:03:52.808653Z",
     "iopub.status.busy": "2022-06-14T19:03:52.808278Z",
     "iopub.status.idle": "2022-06-14T19:03:53.004168Z",
     "shell.execute_reply": "2022-06-14T19:03:53.003216Z"
    },
    "papermill": {
     "duration": 0.212595,
     "end_time": "2022-06-14T19:03:53.006167",
     "exception": false,
     "start_time": "2022-06-14T19:03:52.793572",
     "status": "completed"
    },
    "tags": []
   },
   "outputs": [
    {
     "name": "stderr",
     "output_type": "stream",
     "text": [
      "/opt/conda/lib/python3.7/site-packages/seaborn/_decorators.py:43: FutureWarning: Pass the following variable as a keyword arg: x. From version 0.12, the only valid positional argument will be `data`, and passing other arguments without an explicit keyword will result in an error or misinterpretation.\n",
      "  FutureWarning\n"
     ]
    },
    {
     "data": {
      "text/plain": [
       "<AxesSubplot:xlabel='Institution Type', ylabel='count'>"
      ]
     },
     "execution_count": 10,
     "metadata": {},
     "output_type": "execute_result"
    },
    {
     "data": {
      "image/png": "[encoded data removed]",
      "text/plain": [
       "<Figure size 864x576 with 1 Axes>"
      ]
     },
     "metadata": {
      "needs_background": "light"
     },
     "output_type": "display_data"
    }
   ],
   "source": [
    "# Show the effect Institution Type in Adaptivity Level using in Dataset\n",
    "\n",
    "plt.figure(figsize=(12,8))\n",
    "\n",
    "\n",
    "sns.countplot(df[\"Institution Type\"],hue=df[\"Adaptivity Level\"])"
   ]
  },
  {
   "cell_type": "markdown",
   "id": "9b6a04f7",
   "metadata": {
    "papermill": {
     "duration": 0.009645,
     "end_time": "2022-06-14T19:03:53.025999",
     "exception": false,
     "start_time": "2022-06-14T19:03:53.016354",
     "status": "completed"
    },
    "tags": []
   },
   "source": [
    "- In general, affect Non Government institution highest in Government institution"
   ]
  },
  {
   "cell_type": "code",
   "execution_count": 11,
   "id": "1981c578",
   "metadata": {
    "execution": {
     "iopub.execute_input": "2022-06-14T19:03:53.048504Z",
     "iopub.status.busy": "2022-06-14T19:03:53.047835Z",
     "iopub.status.idle": "2022-06-14T19:03:53.249772Z",
     "shell.execute_reply": "2022-06-14T19:03:53.249137Z"
    },
    "papermill": {
     "duration": 0.215272,
     "end_time": "2022-06-14T19:03:53.251552",
     "exception": false,
     "start_time": "2022-06-14T19:03:53.036280",
     "status": "completed"
    },
    "tags": []
   },
   "outputs": [
    {
     "name": "stderr",
     "output_type": "stream",
     "text": [
      "/opt/conda/lib/python3.7/site-packages/seaborn/_decorators.py:43: FutureWarning: Pass the following variable as a keyword arg: x. From version 0.12, the only valid positional argument will be `data`, and passing other arguments without an explicit keyword will result in an error or misinterpretation.\n",
      "  FutureWarning\n"
     ]
    },
    {
     "data": {
      "text/plain": [
       "<AxesSubplot:xlabel='Financial Condition', ylabel='count'>"
      ]
     },
     "execution_count": 11,
     "metadata": {},
     "output_type": "execute_result"
    },
    {
     "data": {
      "image/png": "[encoded data removed]",
      "text/plain": [
       "<Figure size 864x576 with 1 Axes>"
      ]
     },
     "metadata": {
      "needs_background": "light"
     },
     "output_type": "display_data"
    }
   ],
   "source": [
    "# Show the effect Financial Condition in Adaptivity Level using in Dataset\n",
    "\n",
    "plt.figure(figsize=(12,8))\n",
    "\n",
    "sns.countplot(df[\"Financial Condition\"],hue=df[\"Adaptivity Level\"])"
   ]
  },
  {
   "cell_type": "markdown",
   "id": "f40b72e7",
   "metadata": {
    "papermill": {
     "duration": 0.010247,
     "end_time": "2022-06-14T19:03:53.272436",
     "exception": false,
     "start_time": "2022-06-14T19:03:53.262189",
     "status": "completed"
    },
    "tags": []
   },
   "source": [
    "- In general, affect Financial Condition in families have middle financial have highest percentage Adaptivity Level then poor families and the rich families have  less Adaptivity Level "
   ]
  },
  {
   "cell_type": "code",
   "execution_count": 12,
   "id": "c6039df5",
   "metadata": {
    "execution": {
     "iopub.execute_input": "2022-06-14T19:03:53.295041Z",
     "iopub.status.busy": "2022-06-14T19:03:53.294423Z",
     "iopub.status.idle": "2022-06-14T19:03:53.490352Z",
     "shell.execute_reply": "2022-06-14T19:03:53.489289Z"
    },
    "papermill": {
     "duration": 0.210149,
     "end_time": "2022-06-14T19:03:53.492945",
     "exception": false,
     "start_time": "2022-06-14T19:03:53.282796",
     "status": "completed"
    },
    "tags": []
   },
   "outputs": [
    {
     "name": "stderr",
     "output_type": "stream",
     "text": [
      "/opt/conda/lib/python3.7/site-packages/seaborn/_decorators.py:43: FutureWarning: Pass the following variable as a keyword arg: x. From version 0.12, the only valid positional argument will be `data`, and passing other arguments without an explicit keyword will result in an error or misinterpretation.\n",
      "  FutureWarning\n"
     ]
    },
    {
     "data": {
      "text/plain": [
       "<AxesSubplot:xlabel='Gender', ylabel='count'>"
      ]
     },
     "execution_count": 12,
     "metadata": {},
     "output_type": "execute_result"
    },
    {
     "data": {
      "image/png": "[encoded data removed]",
      "text/plain": [
       "<Figure size 864x576 with 1 Axes>"
      ]
     },
     "metadata": {
      "needs_background": "light"
     },
     "output_type": "display_data"
    }
   ],
   "source": [
    "# Show the effect Gender in Adaptivity Level using in Dataset\n",
    "\n",
    "plt.figure(figsize=(12,8))\n",
    "\n",
    "sns.countplot(df[\"Gender\"],hue=df[\"Adaptivity Level\"])"
   ]
  },
  {
   "cell_type": "markdown",
   "id": "cd36964f",
   "metadata": {
    "papermill": {
     "duration": 0.010412,
     "end_time": "2022-06-14T19:03:53.514505",
     "exception": false,
     "start_time": "2022-06-14T19:03:53.504093",
     "status": "completed"
    },
    "tags": []
   },
   "source": [
    "- In general, Non more differences between the gender for Adaptivity Level"
   ]
  },
  {
   "cell_type": "code",
   "execution_count": 13,
   "id": "58f7a5d7",
   "metadata": {
    "execution": {
     "iopub.execute_input": "2022-06-14T19:03:53.537721Z",
     "iopub.status.busy": "2022-06-14T19:03:53.536769Z",
     "iopub.status.idle": "2022-06-14T19:03:53.763456Z",
     "shell.execute_reply": "2022-06-14T19:03:53.762545Z"
    },
    "papermill": {
     "duration": 0.24047,
     "end_time": "2022-06-14T19:03:53.765597",
     "exception": false,
     "start_time": "2022-06-14T19:03:53.525127",
     "status": "completed"
    },
    "tags": []
   },
   "outputs": [
    {
     "name": "stderr",
     "output_type": "stream",
     "text": [
      "/opt/conda/lib/python3.7/site-packages/seaborn/_decorators.py:43: FutureWarning: Pass the following variable as a keyword arg: x. From version 0.12, the only valid positional argument will be `data`, and passing other arguments without an explicit keyword will result in an error or misinterpretation.\n",
      "  FutureWarning\n"
     ]
    },
    {
     "data": {
      "text/plain": [
       "<AxesSubplot:xlabel='Network Type', ylabel='count'>"
      ]
     },
     "execution_count": 13,
     "metadata": {},
     "output_type": "execute_result"
    },
    {
     "data": {
      "image/png": "[encoded data removed]",
      "text/plain": [
       "<Figure size 864x576 with 1 Axes>"
      ]
     },
     "metadata": {
      "needs_background": "light"
     },
     "output_type": "display_data"
    }
   ],
   "source": [
    "# Show the effect Network Type in Adaptivity Level using in Dataset\n",
    "\n",
    "plt.figure(figsize=(12,8))\n",
    "sns.countplot(df[\"Network Type\"],hue=df[\"Adaptivity Level\"])"
   ]
  },
  {
   "cell_type": "markdown",
   "id": "1f25134e",
   "metadata": {
    "papermill": {
     "duration": 0.01097,
     "end_time": "2022-06-14T19:03:53.787909",
     "exception": false,
     "start_time": "2022-06-14T19:03:53.776939",
     "status": "completed"
    },
    "tags": []
   },
   "source": [
    "- In general,most the student using 4G , and the Network 4G have the highest progress"
   ]
  },
  {
   "cell_type": "markdown",
   "id": "6e312cb7",
   "metadata": {
    "papermill": {
     "duration": 0.010754,
     "end_time": "2022-06-14T19:03:53.809741",
     "exception": false,
     "start_time": "2022-06-14T19:03:53.798987",
     "status": "completed"
    },
    "tags": []
   },
   "source": [
    "# Analysis Results\n",
    "\n",
    "- After made some visualizations I have some results:\n",
    "\n",
    "### About Dataset\n",
    "\n",
    "- Since as a beginner in machine learning it would be a great opportunity to try some techniques to predict the outcome of Students’ Adaptability Level Prediction in Online Education using Machine Learning Approaches\n",
    "\n",
    "\n",
    "- The shape DataSet -> Rows=1205 / Colums =  14\n",
    "\n",
    "- The Data type of all the columns =  object\n",
    "\n",
    "- No any missing value\n",
    "\n",
    "\n",
    "\n",
    "## After Visualizations\n",
    "\n",
    "#### The percentage Adaptivity Level in Dataset\n",
    "- Low = 39.8%\n",
    "- Moderate = 51.9%\n",
    "- High = 8.3 %\n",
    "\n",
    "#### The percentage Gender in Dataset\n",
    "\n",
    "- Boy= 55%\n",
    "- Girl = 45 %\n",
    "\n",
    "#### The Device using in Dataset\n",
    "\n",
    "- Mobile = 84.1%\n",
    "- Computer = 13.4%\n",
    "- Tab = 2.5%\n",
    "\n",
    "\n",
    "#### In general, affect Non Government institution highest in Government institution\n",
    "\n",
    "#### In general, affect Financial Condition in families have middle financial have highest percentage Adaptivity Level then poor families and the rich families have less Adaptivity Level\n",
    "\n",
    "#### In general, Non more differences between the gender for Adaptivity Level\n",
    "\n",
    "#### In general,most the student using 4G , and the Network 4G have the highest progress\n"
   ]
  },
  {
   "cell_type": "markdown",
   "id": "b935914a",
   "metadata": {
    "papermill": {
     "duration": 0.010806,
     "end_time": "2022-06-14T19:03:53.831730",
     "exception": false,
     "start_time": "2022-06-14T19:03:53.820924",
     "status": "completed"
    },
    "tags": []
   },
   "source": [
    "# Building a Machine Learning Model /Classification Predict"
   ]
  },
  {
   "cell_type": "code",
   "execution_count": 14,
   "id": "e1898408",
   "metadata": {
    "execution": {
     "iopub.execute_input": "2022-06-14T19:03:53.856240Z",
     "iopub.status.busy": "2022-06-14T19:03:53.855541Z",
     "iopub.status.idle": "2022-06-14T19:03:54.453427Z",
     "shell.execute_reply": "2022-06-14T19:03:54.452489Z"
    },
    "papermill": {
     "duration": 0.612735,
     "end_time": "2022-06-14T19:03:54.455668",
     "exception": false,
     "start_time": "2022-06-14T19:03:53.842933",
     "status": "completed"
    },
    "tags": []
   },
   "outputs": [],
   "source": [
    "#Importing the basic librarires for building model - classification\n",
    "\n",
    "from sklearn.model_selection import train_test_split\n",
    "\n",
    "from sklearn.metrics import accuracy_score,r2_score\n",
    "\n",
    "\n",
    "from sklearn.linear_model import LogisticRegression\n",
    "from sklearn.tree import DecisionTreeClassifier\n",
    "from sklearn.neighbors import  KNeighborsClassifier\n",
    "from sklearn.ensemble import RandomForestClassifier\n",
    "from sklearn.neural_network import  MLPClassifier\n",
    "from sklearn.svm import SVC\n",
    "from xgboost import XGBClassifier\n",
    "\n",
    "\n",
    "from sklearn.preprocessing import LabelEncoder,StandardScaler"
   ]
  },
  {
   "cell_type": "code",
   "execution_count": 15,
   "id": "1ec4462c",
   "metadata": {
    "execution": {
     "iopub.execute_input": "2022-06-14T19:03:54.480164Z",
     "iopub.status.busy": "2022-06-14T19:03:54.479776Z",
     "iopub.status.idle": "2022-06-14T19:03:54.496090Z",
     "shell.execute_reply": "2022-06-14T19:03:54.495262Z"
    },
    "papermill": {
     "duration": 0.030497,
     "end_time": "2022-06-14T19:03:54.497722",
     "exception": false,
     "start_time": "2022-06-14T19:03:54.467225",
     "status": "completed"
    },
    "tags": []
   },
   "outputs": [
    {
     "data": {
      "text/html": [
       "<div>\n",
       "<style scoped>\n",
       "    .dataframe tbody tr th:only-of-type {\n",
       "        vertical-align: middle;\n",
       "    }\n",
       "\n",
       "    .dataframe tbody tr th {\n",
       "        vertical-align: top;\n",
       "    }\n",
       "\n",
       "    .dataframe thead th {\n",
       "        text-align: right;\n",
       "    }\n",
       "</style>\n",
       "<table border=\"1\" class=\"dataframe\">\n",
       "  <thead>\n",
       "    <tr style=\"text-align: right;\">\n",
       "      <th></th>\n",
       "      <th>Gender</th>\n",
       "      <th>Age</th>\n",
       "      <th>Education Level</th>\n",
       "      <th>Institution Type</th>\n",
       "      <th>IT Student</th>\n",
       "      <th>Location</th>\n",
       "      <th>Load-shedding</th>\n",
       "      <th>Financial Condition</th>\n",
       "      <th>Internet Type</th>\n",
       "      <th>Network Type</th>\n",
       "      <th>Class Duration</th>\n",
       "      <th>Self Lms</th>\n",
       "      <th>Device</th>\n",
       "      <th>Adaptivity Level</th>\n",
       "    </tr>\n",
       "  </thead>\n",
       "  <tbody>\n",
       "    <tr>\n",
       "      <th>0</th>\n",
       "      <td>Boy</td>\n",
       "      <td>21-25</td>\n",
       "      <td>University</td>\n",
       "      <td>Non Government</td>\n",
       "      <td>No</td>\n",
       "      <td>Yes</td>\n",
       "      <td>Low</td>\n",
       "      <td>Mid</td>\n",
       "      <td>Wifi</td>\n",
       "      <td>4G</td>\n",
       "      <td>3-6</td>\n",
       "      <td>No</td>\n",
       "      <td>Tab</td>\n",
       "      <td>Moderate</td>\n",
       "    </tr>\n",
       "    <tr>\n",
       "      <th>1</th>\n",
       "      <td>Girl</td>\n",
       "      <td>21-25</td>\n",
       "      <td>University</td>\n",
       "      <td>Non Government</td>\n",
       "      <td>No</td>\n",
       "      <td>Yes</td>\n",
       "      <td>High</td>\n",
       "      <td>Mid</td>\n",
       "      <td>Mobile Data</td>\n",
       "      <td>4G</td>\n",
       "      <td>1-3</td>\n",
       "      <td>Yes</td>\n",
       "      <td>Mobile</td>\n",
       "      <td>Moderate</td>\n",
       "    </tr>\n",
       "    <tr>\n",
       "      <th>2</th>\n",
       "      <td>Girl</td>\n",
       "      <td>16-20</td>\n",
       "      <td>College</td>\n",
       "      <td>Government</td>\n",
       "      <td>No</td>\n",
       "      <td>Yes</td>\n",
       "      <td>Low</td>\n",
       "      <td>Mid</td>\n",
       "      <td>Wifi</td>\n",
       "      <td>4G</td>\n",
       "      <td>1-3</td>\n",
       "      <td>No</td>\n",
       "      <td>Mobile</td>\n",
       "      <td>Moderate</td>\n",
       "    </tr>\n",
       "    <tr>\n",
       "      <th>3</th>\n",
       "      <td>Girl</td>\n",
       "      <td>11-15</td>\n",
       "      <td>School</td>\n",
       "      <td>Non Government</td>\n",
       "      <td>No</td>\n",
       "      <td>Yes</td>\n",
       "      <td>Low</td>\n",
       "      <td>Mid</td>\n",
       "      <td>Mobile Data</td>\n",
       "      <td>4G</td>\n",
       "      <td>1-3</td>\n",
       "      <td>No</td>\n",
       "      <td>Mobile</td>\n",
       "      <td>Moderate</td>\n",
       "    </tr>\n",
       "    <tr>\n",
       "      <th>4</th>\n",
       "      <td>Girl</td>\n",
       "      <td>16-20</td>\n",
       "      <td>School</td>\n",
       "      <td>Non Government</td>\n",
       "      <td>No</td>\n",
       "      <td>Yes</td>\n",
       "      <td>Low</td>\n",
       "      <td>Poor</td>\n",
       "      <td>Mobile Data</td>\n",
       "      <td>3G</td>\n",
       "      <td>0</td>\n",
       "      <td>No</td>\n",
       "      <td>Mobile</td>\n",
       "      <td>Low</td>\n",
       "    </tr>\n",
       "  </tbody>\n",
       "</table>\n",
       "</div>"
      ],
      "text/plain": [
       "  Gender    Age Education Level Institution Type IT Student Location  \\\n",
       "0    Boy  21-25      University   Non Government         No      Yes   \n",
       "1   Girl  21-25      University   Non Government         No      Yes   \n",
       "2   Girl  16-20         College       Government         No      Yes   \n",
       "3   Girl  11-15          School   Non Government         No      Yes   \n",
       "4   Girl  16-20          School   Non Government         No      Yes   \n",
       "\n",
       "  Load-shedding Financial Condition Internet Type Network Type Class Duration  \\\n",
       "0           Low                 Mid          Wifi           4G            3-6   \n",
       "1          High                 Mid   Mobile Data           4G            1-3   \n",
       "2           Low                 Mid          Wifi           4G            1-3   \n",
       "3           Low                 Mid   Mobile Data           4G            1-3   \n",
       "4           Low                Poor   Mobile Data           3G              0   \n",
       "\n",
       "  Self Lms  Device Adaptivity Level  \n",
       "0       No     Tab         Moderate  \n",
       "1      Yes  Mobile         Moderate  \n",
       "2       No  Mobile         Moderate  \n",
       "3       No  Mobile         Moderate  \n",
       "4       No  Mobile              Low  "
      ]
     },
     "execution_count": 15,
     "metadata": {},
     "output_type": "execute_result"
    }
   ],
   "source": [
    "df.head()"
   ]
  },
  {
   "cell_type": "code",
   "execution_count": 16,
   "id": "25566ba6",
   "metadata": {
    "execution": {
     "iopub.execute_input": "2022-06-14T19:03:54.523049Z",
     "iopub.status.busy": "2022-06-14T19:03:54.522239Z",
     "iopub.status.idle": "2022-06-14T19:03:54.533144Z",
     "shell.execute_reply": "2022-06-14T19:03:54.532002Z"
    },
    "papermill": {
     "duration": 0.025914,
     "end_time": "2022-06-14T19:03:54.535211",
     "exception": false,
     "start_time": "2022-06-14T19:03:54.509297",
     "status": "completed"
    },
    "tags": []
   },
   "outputs": [
    {
     "name": "stdout",
     "output_type": "stream",
     "text": [
      "<class 'pandas.core.frame.DataFrame'>\n",
      "RangeIndex: 1205 entries, 0 to 1204\n",
      "Data columns (total 14 columns):\n",
      " #   Column               Non-Null Count  Dtype \n",
      "---  ------               --------------  ----- \n",
      " 0   Gender               1205 non-null   object\n",
      " 1   Age                  1205 non-null   object\n",
      " 2   Education Level      1205 non-null   object\n",
      " 3   Institution Type     1205 non-null   object\n",
      " 4   IT Student           1205 non-null   object\n",
      " 5   Location             1205 non-null   object\n",
      " 6   Load-shedding        1205 non-null   object\n",
      " 7   Financial Condition  1205 non-null   object\n",
      " 8   Internet Type        1205 non-null   object\n",
      " 9   Network Type         1205 non-null   object\n",
      " 10  Class Duration       1205 non-null   object\n",
      " 11  Self Lms             1205 non-null   object\n",
      " 12  Device               1205 non-null   object\n",
      " 13  Adaptivity Level     1205 non-null   object\n",
      "dtypes: object(14)\n",
      "memory usage: 131.9+ KB\n"
     ]
    }
   ],
   "source": [
    "df.info()"
   ]
  },
  {
   "cell_type": "markdown",
   "id": "0cbaa6ca",
   "metadata": {
    "papermill": {
     "duration": 0.010862,
     "end_time": "2022-06-14T19:03:54.557667",
     "exception": false,
     "start_time": "2022-06-14T19:03:54.546805",
     "status": "completed"
    },
    "tags": []
   },
   "source": [
    "#### We need change all data type using LabelEncode"
   ]
  },
  {
   "cell_type": "code",
   "execution_count": 17,
   "id": "75d2c182",
   "metadata": {
    "execution": {
     "iopub.execute_input": "2022-06-14T19:03:54.581840Z",
     "iopub.status.busy": "2022-06-14T19:03:54.581167Z",
     "iopub.status.idle": "2022-06-14T19:03:54.593864Z",
     "shell.execute_reply": "2022-06-14T19:03:54.593276Z"
    },
    "papermill": {
     "duration": 0.026854,
     "end_time": "2022-06-14T19:03:54.595576",
     "exception": false,
     "start_time": "2022-06-14T19:03:54.568722",
     "status": "completed"
    },
    "tags": []
   },
   "outputs": [],
   "source": [
    "# change all data type using LabelEncode\n",
    "\n",
    "data=df\n",
    "\n",
    "label_encoders = {}\n",
    "categorical_columns = data.columns  # I would recommend using columns names here if you're using pandas. If you're using numpy then stick with range(n) instead\n",
    "\n",
    "for column in categorical_columns:\n",
    "    label_encoders[column] = LabelEncoder()\n",
    "    data[column] = label_encoders[column].fit_transform(data[column])"
   ]
  },
  {
   "cell_type": "code",
   "execution_count": 18,
   "id": "34936dd9",
   "metadata": {
    "execution": {
     "iopub.execute_input": "2022-06-14T19:03:54.619642Z",
     "iopub.status.busy": "2022-06-14T19:03:54.619006Z",
     "iopub.status.idle": "2022-06-14T19:03:54.630771Z",
     "shell.execute_reply": "2022-06-14T19:03:54.630070Z"
    },
    "papermill": {
     "duration": 0.025818,
     "end_time": "2022-06-14T19:03:54.632587",
     "exception": false,
     "start_time": "2022-06-14T19:03:54.606769",
     "status": "completed"
    },
    "tags": []
   },
   "outputs": [
    {
     "data": {
      "text/html": [
       "<div>\n",
       "<style scoped>\n",
       "    .dataframe tbody tr th:only-of-type {\n",
       "        vertical-align: middle;\n",
       "    }\n",
       "\n",
       "    .dataframe tbody tr th {\n",
       "        vertical-align: top;\n",
       "    }\n",
       "\n",
       "    .dataframe thead th {\n",
       "        text-align: right;\n",
       "    }\n",
       "</style>\n",
       "<table border=\"1\" class=\"dataframe\">\n",
       "  <thead>\n",
       "    <tr style=\"text-align: right;\">\n",
       "      <th></th>\n",
       "      <th>Gender</th>\n",
       "      <th>Age</th>\n",
       "      <th>Education Level</th>\n",
       "      <th>Institution Type</th>\n",
       "      <th>IT Student</th>\n",
       "      <th>Location</th>\n",
       "      <th>Load-shedding</th>\n",
       "      <th>Financial Condition</th>\n",
       "      <th>Internet Type</th>\n",
       "      <th>Network Type</th>\n",
       "      <th>Class Duration</th>\n",
       "      <th>Self Lms</th>\n",
       "      <th>Device</th>\n",
       "      <th>Adaptivity Level</th>\n",
       "    </tr>\n",
       "  </thead>\n",
       "  <tbody>\n",
       "    <tr>\n",
       "      <th>0</th>\n",
       "      <td>0</td>\n",
       "      <td>3</td>\n",
       "      <td>2</td>\n",
       "      <td>1</td>\n",
       "      <td>0</td>\n",
       "      <td>1</td>\n",
       "      <td>1</td>\n",
       "      <td>0</td>\n",
       "      <td>1</td>\n",
       "      <td>2</td>\n",
       "      <td>2</td>\n",
       "      <td>0</td>\n",
       "      <td>2</td>\n",
       "      <td>2</td>\n",
       "    </tr>\n",
       "    <tr>\n",
       "      <th>1</th>\n",
       "      <td>1</td>\n",
       "      <td>3</td>\n",
       "      <td>2</td>\n",
       "      <td>1</td>\n",
       "      <td>0</td>\n",
       "      <td>1</td>\n",
       "      <td>0</td>\n",
       "      <td>0</td>\n",
       "      <td>0</td>\n",
       "      <td>2</td>\n",
       "      <td>1</td>\n",
       "      <td>1</td>\n",
       "      <td>1</td>\n",
       "      <td>2</td>\n",
       "    </tr>\n",
       "    <tr>\n",
       "      <th>2</th>\n",
       "      <td>1</td>\n",
       "      <td>2</td>\n",
       "      <td>0</td>\n",
       "      <td>0</td>\n",
       "      <td>0</td>\n",
       "      <td>1</td>\n",
       "      <td>1</td>\n",
       "      <td>0</td>\n",
       "      <td>1</td>\n",
       "      <td>2</td>\n",
       "      <td>1</td>\n",
       "      <td>0</td>\n",
       "      <td>1</td>\n",
       "      <td>2</td>\n",
       "    </tr>\n",
       "    <tr>\n",
       "      <th>3</th>\n",
       "      <td>1</td>\n",
       "      <td>1</td>\n",
       "      <td>1</td>\n",
       "      <td>1</td>\n",
       "      <td>0</td>\n",
       "      <td>1</td>\n",
       "      <td>1</td>\n",
       "      <td>0</td>\n",
       "      <td>0</td>\n",
       "      <td>2</td>\n",
       "      <td>1</td>\n",
       "      <td>0</td>\n",
       "      <td>1</td>\n",
       "      <td>2</td>\n",
       "    </tr>\n",
       "    <tr>\n",
       "      <th>4</th>\n",
       "      <td>1</td>\n",
       "      <td>2</td>\n",
       "      <td>1</td>\n",
       "      <td>1</td>\n",
       "      <td>0</td>\n",
       "      <td>1</td>\n",
       "      <td>1</td>\n",
       "      <td>1</td>\n",
       "      <td>0</td>\n",
       "      <td>1</td>\n",
       "      <td>0</td>\n",
       "      <td>0</td>\n",
       "      <td>1</td>\n",
       "      <td>1</td>\n",
       "    </tr>\n",
       "  </tbody>\n",
       "</table>\n",
       "</div>"
      ],
      "text/plain": [
       "   Gender  Age  Education Level  Institution Type  IT Student  Location  \\\n",
       "0       0    3                2                 1           0         1   \n",
       "1       1    3                2                 1           0         1   \n",
       "2       1    2                0                 0           0         1   \n",
       "3       1    1                1                 1           0         1   \n",
       "4       1    2                1                 1           0         1   \n",
       "\n",
       "   Load-shedding  Financial Condition  Internet Type  Network Type  \\\n",
       "0              1                    0              1             2   \n",
       "1              0                    0              0             2   \n",
       "2              1                    0              1             2   \n",
       "3              1                    0              0             2   \n",
       "4              1                    1              0             1   \n",
       "\n",
       "   Class Duration  Self Lms  Device  Adaptivity Level  \n",
       "0               2         0       2                 2  \n",
       "1               1         1       1                 2  \n",
       "2               1         0       1                 2  \n",
       "3               1         0       1                 2  \n",
       "4               0         0       1                 1  "
      ]
     },
     "execution_count": 18,
     "metadata": {},
     "output_type": "execute_result"
    }
   ],
   "source": [
    "data.head()"
   ]
  },
  {
   "cell_type": "code",
   "execution_count": 19,
   "id": "23a0e5cc",
   "metadata": {
    "execution": {
     "iopub.execute_input": "2022-06-14T19:03:54.657652Z",
     "iopub.status.busy": "2022-06-14T19:03:54.657036Z",
     "iopub.status.idle": "2022-06-14T19:03:54.668436Z",
     "shell.execute_reply": "2022-06-14T19:03:54.667237Z"
    },
    "papermill": {
     "duration": 0.025872,
     "end_time": "2022-06-14T19:03:54.670453",
     "exception": false,
     "start_time": "2022-06-14T19:03:54.644581",
     "status": "completed"
    },
    "tags": []
   },
   "outputs": [
    {
     "name": "stdout",
     "output_type": "stream",
     "text": [
      "X Train :  (903, 13)\n",
      "X Test  :  (302, 13)\n",
      "Y Train :  (903,)\n",
      "Y Test  :  (302,)\n"
     ]
    }
   ],
   "source": [
    "#Defined X value and y value , and split the data train\n",
    "X = data.drop(columns=\"Adaptivity Level\")           \n",
    "y = data[\"Adaptivity Level\"]    # y = quality\n",
    "\n",
    "# split the data train and test\n",
    "X_train, X_test, y_train, y_test = train_test_split(X, y, test_size=0.25, random_state=42)\n",
    "\n",
    "print(\"X Train : \", X_train.shape)\n",
    "print(\"X Test  : \", X_test.shape)\n",
    "print(\"Y Train : \", y_train.shape)\n",
    "print(\"Y Test  : \", y_test.shape)"
   ]
  },
  {
   "cell_type": "code",
   "execution_count": 20,
   "id": "ae17b20d",
   "metadata": {
    "execution": {
     "iopub.execute_input": "2022-06-14T19:03:54.696318Z",
     "iopub.status.busy": "2022-06-14T19:03:54.695339Z",
     "iopub.status.idle": "2022-06-14T19:03:54.700505Z",
     "shell.execute_reply": "2022-06-14T19:03:54.699918Z"
    },
    "papermill": {
     "duration": 0.019669,
     "end_time": "2022-06-14T19:03:54.702156",
     "exception": false,
     "start_time": "2022-06-14T19:03:54.682487",
     "status": "completed"
    },
    "tags": []
   },
   "outputs": [],
   "source": [
    "#Defined object from library classification \n",
    "\n",
    "LR = LogisticRegression()\n",
    "DTR = DecisionTreeClassifier()\n",
    "RFR = RandomForestClassifier()\n",
    "KNR = KNeighborsClassifier()\n",
    "MLP = MLPClassifier()\n",
    "XGB = XGBClassifier()\n",
    "SVC=SVC()"
   ]
  },
  {
   "cell_type": "code",
   "execution_count": 21,
   "id": "2f9be18c",
   "metadata": {
    "execution": {
     "iopub.execute_input": "2022-06-14T19:03:54.727609Z",
     "iopub.status.busy": "2022-06-14T19:03:54.727103Z",
     "iopub.status.idle": "2022-06-14T19:03:56.465170Z",
     "shell.execute_reply": "2022-06-14T19:03:56.463799Z"
    },
    "papermill": {
     "duration": 1.753207,
     "end_time": "2022-06-14T19:03:56.467192",
     "exception": false,
     "start_time": "2022-06-14T19:03:54.713985",
     "status": "completed"
    },
    "tags": []
   },
   "outputs": [
    {
     "name": "stdout",
     "output_type": "stream",
     "text": [
      "LogisticRegression() : 70.86092715231787\n",
      "DecisionTreeClassifier() : 90.06622516556291\n",
      "RandomForestClassifier() : 90.72847682119205\n",
      "KNeighborsClassifier() : 78.80794701986756\n"
     ]
    },
    {
     "name": "stderr",
     "output_type": "stream",
     "text": [
      "/opt/conda/lib/python3.7/site-packages/sklearn/neural_network/_multilayer_perceptron.py:696: ConvergenceWarning: Stochastic Optimizer: Maximum iterations (200) reached and the optimization hasn't converged yet.\n",
      "  ConvergenceWarning,\n"
     ]
    },
    {
     "name": "stdout",
     "output_type": "stream",
     "text": [
      "MLPClassifier() : 84.43708609271523\n",
      "KNeighborsClassifier() : 78.80794701986756\n",
      "XGBClassifier(base_score=0.5, booster='gbtree', callbacks=None,\n",
      "              colsample_bylevel=1, colsample_bynode=1, colsample_bytree=1,\n",
      "              early_stopping_rounds=None, enable_categorical=False,\n",
      "              eval_metric=None, gamma=0, gpu_id=-1, grow_policy='depthwise',\n",
      "              importance_type=None, interaction_constraints='',\n",
      "              learning_rate=0.300000012, max_bin=256, max_cat_to_onehot=4,\n",
      "              max_delta_step=0, max_depth=6, max_leaves=0, min_child_weight=1,\n",
      "              missing=nan, monotone_constraints='()', n_estimators=100,\n",
      "              n_jobs=0, num_parallel_tree=1, objective='multi:softprob',\n",
      "              predictor='auto', random_state=0, reg_alpha=0, ...) : 91.3907284768212\n",
      "SVC() : 76.82119205298014\n"
     ]
    }
   ],
   "source": [
    "# make for loop for classification \n",
    "\n",
    "li = [LR,DTR,RFR,KNR,MLP,KNR,XGB,SVC]\n",
    "d = {}\n",
    "for i in li:\n",
    "    i.fit(X_train,y_train)\n",
    "    ypred = i.predict(X_test)\n",
    "    print(i,\":\",accuracy_score(y_test,ypred)*100)\n",
    "    d.update({str(i):i.score(X_test,y_test)*100})"
   ]
  },
  {
   "cell_type": "markdown",
   "id": "c75ed935",
   "metadata": {
    "papermill": {
     "duration": 0.012138,
     "end_time": "2022-06-14T19:03:56.491814",
     "exception": false,
     "start_time": "2022-06-14T19:03:56.479676",
     "status": "completed"
    },
    "tags": []
   },
   "source": [
    "- The best XGBClassifier -> 91.4%\n"
   ]
  },
  {
   "cell_type": "code",
   "execution_count": 22,
   "id": "8c12eb8d",
   "metadata": {
    "execution": {
     "iopub.execute_input": "2022-06-14T19:03:56.519016Z",
     "iopub.status.busy": "2022-06-14T19:03:56.518141Z",
     "iopub.status.idle": "2022-06-14T19:03:56.806129Z",
     "shell.execute_reply": "2022-06-14T19:03:56.805238Z"
    },
    "papermill": {
     "duration": 0.304535,
     "end_time": "2022-06-14T19:03:56.808766",
     "exception": false,
     "start_time": "2022-06-14T19:03:56.504231",
     "status": "completed"
    },
    "tags": []
   },
   "outputs": [
    {
     "data": {
      "image/png": "[encoded data removed]",
      "text/plain": [
       "<Figure size 2160x432 with 1 Axes>"
      ]
     },
     "metadata": {
      "needs_background": "light"
     },
     "output_type": "display_data"
    }
   ],
   "source": [
    "# make graph about Accuracy\n",
    "\n",
    "plt.figure(figsize=(30, 6))\n",
    "plt.title(\"Algorithm vs Accuracy\")\n",
    "plt.xlabel(\"Algorithm\")\n",
    "plt.ylabel(\"Accuracy\")\n",
    "plt.plot(d.keys(),d.values(),marker='o',color='blue')\n",
    "plt.show()"
   ]
  },
  {
   "cell_type": "markdown",
   "id": "d4e379d8",
   "metadata": {
    "papermill": {
     "duration": 0.01395,
     "end_time": "2022-06-14T19:03:56.836439",
     "exception": false,
     "start_time": "2022-06-14T19:03:56.822489",
     "status": "completed"
    },
    "tags": []
   },
   "source": [
    "# Building Model usign TensorFlow"
   ]
  },
  {
   "cell_type": "code",
   "execution_count": 23,
   "id": "92fffc2d",
   "metadata": {
    "execution": {
     "iopub.execute_input": "2022-06-14T19:03:56.865439Z",
     "iopub.status.busy": "2022-06-14T19:03:56.864561Z",
     "iopub.status.idle": "2022-06-14T19:04:01.591308Z",
     "shell.execute_reply": "2022-06-14T19:04:01.590249Z"
    },
    "papermill": {
     "duration": 4.74405,
     "end_time": "2022-06-14T19:04:01.594002",
     "exception": false,
     "start_time": "2022-06-14T19:03:56.849952",
     "status": "completed"
    },
    "tags": []
   },
   "outputs": [],
   "source": [
    "# import TensorFlow\n",
    "\n",
    "import tensorflow as tf\n"
   ]
  },
  {
   "cell_type": "code",
   "execution_count": 24,
   "id": "2df5ebf2",
   "metadata": {
    "execution": {
     "iopub.execute_input": "2022-06-14T19:04:01.623458Z",
     "iopub.status.busy": "2022-06-14T19:04:01.622414Z",
     "iopub.status.idle": "2022-06-14T19:04:09.478232Z",
     "shell.execute_reply": "2022-06-14T19:04:09.477216Z"
    },
    "papermill": {
     "duration": 7.872381,
     "end_time": "2022-06-14T19:04:09.480118",
     "exception": false,
     "start_time": "2022-06-14T19:04:01.607737",
     "status": "completed"
    },
    "tags": []
   },
   "outputs": [
    {
     "name": "stderr",
     "output_type": "stream",
     "text": [
      "2022-06-14 19:04:02.687462: I tensorflow/core/common_runtime/process_util.cc:146] Creating new thread pool with default inter op setting: 2. Tune using inter_op_parallelism_threads for best performance.\n",
      "2022-06-14 19:04:03.070721: I tensorflow/compiler/mlir/mlir_graph_optimization_pass.cc:185] None of the MLIR Optimization Passes are enabled (registered 2)\n"
     ]
    },
    {
     "name": "stdout",
     "output_type": "stream",
     "text": [
      "Epoch 1/3500\n",
      "29/29 [==============================] - 2s 2ms/step - loss: 1.0091 - accuracy: 0.5891\n",
      "Epoch 2/3500\n",
      "29/29 [==============================] - 0s 2ms/step - loss: 0.8145 - accuracy: 0.6633\n",
      "Epoch 3/3500\n",
      "29/29 [==============================] - 0s 2ms/step - loss: 0.7319 - accuracy: 0.6999\n",
      "Epoch 4/3500\n",
      "29/29 [==============================] - 0s 2ms/step - loss: 0.6785 - accuracy: 0.7154\n",
      "Epoch 5/3500\n",
      "29/29 [==============================] - 0s 2ms/step - loss: 0.6424 - accuracy: 0.7254\n",
      "Epoch 6/3500\n",
      "29/29 [==============================] - 0s 2ms/step - loss: 0.6332 - accuracy: 0.7154\n",
      "Epoch 7/3500\n",
      "29/29 [==============================] - 0s 2ms/step - loss: 0.5909 - accuracy: 0.7519\n",
      "Epoch 8/3500\n",
      "29/29 [==============================] - 0s 2ms/step - loss: 0.5826 - accuracy: 0.7375\n",
      "Epoch 9/3500\n",
      "29/29 [==============================] - 0s 2ms/step - loss: 0.5534 - accuracy: 0.7741\n",
      "Epoch 10/3500\n",
      "29/29 [==============================] - 0s 2ms/step - loss: 0.5510 - accuracy: 0.7464\n",
      "Epoch 11/3500\n",
      "29/29 [==============================] - 0s 2ms/step - loss: 0.5342 - accuracy: 0.7719\n",
      "Epoch 12/3500\n",
      "29/29 [==============================] - 0s 2ms/step - loss: 0.5335 - accuracy: 0.7663\n",
      "Epoch 13/3500\n",
      "29/29 [==============================] - 0s 3ms/step - loss: 0.5208 - accuracy: 0.7741\n",
      "Epoch 14/3500\n",
      "29/29 [==============================] - 0s 2ms/step - loss: 0.5016 - accuracy: 0.7929\n",
      "Epoch 15/3500\n",
      "29/29 [==============================] - 0s 3ms/step - loss: 0.5010 - accuracy: 0.7807\n",
      "Epoch 16/3500\n",
      "29/29 [==============================] - 0s 2ms/step - loss: 0.4871 - accuracy: 0.7951\n",
      "Epoch 17/3500\n",
      "29/29 [==============================] - 0s 2ms/step - loss: 0.4975 - accuracy: 0.7829\n",
      "Epoch 18/3500\n",
      "29/29 [==============================] - 0s 2ms/step - loss: 0.4534 - accuracy: 0.8029\n",
      "Epoch 19/3500\n",
      "29/29 [==============================] - 0s 3ms/step - loss: 0.4718 - accuracy: 0.8173\n",
      "Epoch 20/3500\n",
      "29/29 [==============================] - 0s 3ms/step - loss: 0.4618 - accuracy: 0.7896\n",
      "Epoch 21/3500\n",
      "29/29 [==============================] - 0s 2ms/step - loss: 0.4412 - accuracy: 0.8184\n",
      "Epoch 22/3500\n",
      "29/29 [==============================] - 0s 2ms/step - loss: 0.4247 - accuracy: 0.8184\n",
      "Epoch 23/3500\n",
      "29/29 [==============================] - 0s 3ms/step - loss: 0.4392 - accuracy: 0.8062\n",
      "Epoch 24/3500\n",
      "29/29 [==============================] - 0s 2ms/step - loss: 0.4280 - accuracy: 0.8095\n",
      "Epoch 25/3500\n",
      "29/29 [==============================] - 0s 2ms/step - loss: 0.4205 - accuracy: 0.8272\n",
      "Epoch 26/3500\n",
      "29/29 [==============================] - 0s 2ms/step - loss: 0.4217 - accuracy: 0.8217\n",
      "Epoch 27/3500\n",
      "29/29 [==============================] - 0s 2ms/step - loss: 0.4135 - accuracy: 0.8272\n",
      "Epoch 28/3500\n",
      "29/29 [==============================] - 0s 2ms/step - loss: 0.4085 - accuracy: 0.8283\n",
      "Epoch 29/3500\n",
      "29/29 [==============================] - 0s 2ms/step - loss: 0.4086 - accuracy: 0.8405\n",
      "Epoch 30/3500\n",
      "29/29 [==============================] - 0s 2ms/step - loss: 0.4061 - accuracy: 0.8295\n",
      "Epoch 31/3500\n",
      "29/29 [==============================] - 0s 2ms/step - loss: 0.3998 - accuracy: 0.8317\n",
      "Epoch 32/3500\n",
      "29/29 [==============================] - 0s 3ms/step - loss: 0.3992 - accuracy: 0.8328\n",
      "Epoch 33/3500\n",
      "29/29 [==============================] - 0s 2ms/step - loss: 0.4135 - accuracy: 0.8261\n",
      "Epoch 34/3500\n",
      "29/29 [==============================] - 0s 3ms/step - loss: 0.3674 - accuracy: 0.8560\n",
      "Epoch 35/3500\n",
      "29/29 [==============================] - 0s 2ms/step - loss: 0.3961 - accuracy: 0.8350\n",
      "Epoch 36/3500\n",
      "29/29 [==============================] - 0s 3ms/step - loss: 0.3772 - accuracy: 0.8439\n",
      "Epoch 37/3500\n",
      "29/29 [==============================] - 0s 2ms/step - loss: 0.3631 - accuracy: 0.8483\n",
      "Epoch 38/3500\n",
      "29/29 [==============================] - 0s 3ms/step - loss: 0.3609 - accuracy: 0.8427\n",
      "Epoch 39/3500\n",
      "29/29 [==============================] - 0s 3ms/step - loss: 0.3812 - accuracy: 0.8361\n",
      "Epoch 40/3500\n",
      "29/29 [==============================] - 0s 2ms/step - loss: 0.3734 - accuracy: 0.8483\n",
      "Epoch 41/3500\n",
      "29/29 [==============================] - 0s 3ms/step - loss: 0.3683 - accuracy: 0.8483\n",
      "Epoch 42/3500\n",
      "29/29 [==============================] - 0s 2ms/step - loss: 0.3409 - accuracy: 0.8538\n",
      "Epoch 43/3500\n",
      "29/29 [==============================] - 0s 3ms/step - loss: 0.3322 - accuracy: 0.8627\n",
      "Epoch 44/3500\n",
      "29/29 [==============================] - 0s 3ms/step - loss: 0.3603 - accuracy: 0.8549\n",
      "Epoch 45/3500\n",
      "29/29 [==============================] - 0s 3ms/step - loss: 0.3607 - accuracy: 0.8527\n",
      "Epoch 46/3500\n",
      "29/29 [==============================] - 0s 2ms/step - loss: 0.3570 - accuracy: 0.8527\n",
      "Epoch 47/3500\n",
      "29/29 [==============================] - 0s 3ms/step - loss: 0.3901 - accuracy: 0.8350\n",
      "Epoch 48/3500\n",
      "29/29 [==============================] - 0s 3ms/step - loss: 0.3310 - accuracy: 0.8627\n",
      "Epoch 49/3500\n",
      "29/29 [==============================] - 0s 3ms/step - loss: 0.3389 - accuracy: 0.8627\n",
      "Epoch 50/3500\n",
      "29/29 [==============================] - 0s 2ms/step - loss: 0.3456 - accuracy: 0.8549\n",
      "Epoch 51/3500\n",
      "29/29 [==============================] - 0s 3ms/step - loss: 0.3239 - accuracy: 0.8649\n",
      "Epoch 52/3500\n",
      "29/29 [==============================] - 0s 2ms/step - loss: 0.3406 - accuracy: 0.8638\n",
      "Epoch 53/3500\n",
      "29/29 [==============================] - 0s 3ms/step - loss: 0.3193 - accuracy: 0.8638\n",
      "Epoch 54/3500\n",
      "29/29 [==============================] - 0s 3ms/step - loss: 0.3279 - accuracy: 0.8859\n",
      "Epoch 55/3500\n",
      "29/29 [==============================] - 0s 3ms/step - loss: 0.3177 - accuracy: 0.8804\n",
      "Epoch 56/3500\n",
      "29/29 [==============================] - 0s 3ms/step - loss: 0.3364 - accuracy: 0.8549\n",
      "Epoch 57/3500\n",
      "29/29 [==============================] - 0s 2ms/step - loss: 0.3233 - accuracy: 0.8660\n",
      "Epoch 58/3500\n",
      "29/29 [==============================] - 0s 3ms/step - loss: 0.3331 - accuracy: 0.8505\n",
      "Epoch 59/3500\n",
      "29/29 [==============================] - 0s 2ms/step - loss: 0.3506 - accuracy: 0.8350\n",
      "Epoch 60/3500\n",
      "29/29 [==============================] - 0s 2ms/step - loss: 0.3331 - accuracy: 0.8549\n"
     ]
    },
    {
     "data": {
      "text/plain": [
       "<keras.callbacks.History at 0x7f9805565850>"
      ]
     },
     "execution_count": 24,
     "metadata": {},
     "output_type": "execute_result"
    }
   ],
   "source": [
    "# building model and we made split the data - train and test\n",
    "\n",
    "model = tf.keras.models.Sequential([\n",
    "    tf.keras.layers.InputLayer(input_shape = X_train.shape[1:]),\n",
    "    tf.keras.layers.BatchNormalization(),\n",
    "    tf.keras.layers.Dense(100 , activation = 'selu',kernel_initializer = 'lecun_normal'),\n",
    "    tf.keras.layers.BatchNormalization(),\n",
    "    tf.keras.layers.Dense(100 , activation = 'selu' , kernel_initializer = 'lecun_normal'),\n",
    "    tf.keras.layers.BatchNormalization(),\n",
    "    tf.keras.layers.Dense(3 , activation = 'softmax')\n",
    "])\n",
    "\n",
    "model.compile(loss = tf.keras.losses.sparse_categorical_crossentropy , optimizer = tf.keras.optimizers.Nadam() , metrics = ['accuracy'])\n",
    "\n",
    "model.fit(X_train , y_train , epochs = 3500 , callbacks = [tf.keras.callbacks.EarlyStopping(monitor='loss' ,mode = 'min', patience = 5)])"
   ]
  },
  {
   "cell_type": "code",
   "execution_count": 25,
   "id": "60b7f5a6",
   "metadata": {
    "execution": {
     "iopub.execute_input": "2022-06-14T19:04:09.527820Z",
     "iopub.status.busy": "2022-06-14T19:04:09.527301Z",
     "iopub.status.idle": "2022-06-14T19:04:09.833518Z",
     "shell.execute_reply": "2022-06-14T19:04:09.832316Z"
    },
    "papermill": {
     "duration": 0.332192,
     "end_time": "2022-06-14T19:04:09.835607",
     "exception": false,
     "start_time": "2022-06-14T19:04:09.503415",
     "status": "completed"
    },
    "tags": []
   },
   "outputs": [
    {
     "name": "stdout",
     "output_type": "stream",
     "text": [
      "10/10 [==============================] - 0s 2ms/step - loss: 0.3567 - accuracy: 0.8841\n",
      "The Score TF model : 0.8841059803962708\n"
     ]
    }
   ],
   "source": [
    "# evaluation model\n",
    "\n",
    "a , score = model.evaluate(X_test , y_test)\n",
    "\n",
    "print(\"The Score TF model :\",score)"
   ]
  },
  {
   "cell_type": "markdown",
   "id": "8eaa5725",
   "metadata": {
    "papermill": {
     "duration": 0.023117,
     "end_time": "2022-06-14T19:04:09.881785",
     "exception": false,
     "start_time": "2022-06-14T19:04:09.858668",
     "status": "completed"
    },
    "tags": []
   },
   "source": [
    "# Model Selection Results 😃😃😃\n",
    "\n",
    "## Classification : \n",
    "\n",
    "- XGBClassifier -> 91.4%\n",
    "- RandomForestClassifier ->  90.7%\n",
    "- DecisionTreeClassifier -> 90%\n",
    "- MLPClassifier -> 81.7%\n",
    "- KNeighborsClassifier -> 78.8%\n",
    "- KNeighborsClassifier -> 78.8%\n",
    "- SVC -> 76.8%\n",
    "- LogisticRegression -> 70.8%\n",
    "\n",
    "\n",
    "## Building Model usign TensorFlow\n",
    "\n",
    "- The Score TF model : 83%\n",
    "\n",
    "\n",
    "# Notes 😃😃😃😃\n",
    "\n",
    "- Thank for reading my analysis and my regression. 😃😃😃😃\n",
    "\n",
    "- If you any questions or advice me please write in the comment . ❤️❤️❤️❤️\n",
    "\n",
    "- If anyone has a model with a higher percentage, please tell me 🤝🤝🤝\n",
    "\n",
    "\n",
    "# Vote ❤️😃\n",
    "- If you liked my work upvote me ,\n",
    "\n",
    "\n",
    "# The End 🤝🎉🤝🎉"
   ]
  }
 ],
 "metadata": {
  "kernelspec": {
   "display_name": "Python 3",
   "language": "python",
   "name": "python3"
  },
  "language_info": {
   "codemirror_mode": {
    "name": "ipython",
    "version": 3
   },
   "file_extension": ".py",
   "mimetype": "text/x-python",
   "name": "python",
   "nbconvert_exporter": "python",
   "pygments_lexer": "ipython3",
   "version": "3.7.12"
  },
  "papermill": {
   "default_parameters": {},
   "duration": 31.484745,
   "end_time": "2022-06-14T19:04:12.993231",
   "environment_variables": {},
   "exception": null,
   "input_path": "__notebook__.ipynb",
   "output_path": "__notebook__.ipynb",
   "parameters": {},
   "start_time": "2022-06-14T19:03:41.508486",
   "version": "2.3.4"
  }
 },
 "nbformat": 4,
 "nbformat_minor": 5
}
